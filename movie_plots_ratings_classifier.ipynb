{
  "nbformat": 4,
  "nbformat_minor": 0,
  "metadata": {
    "kernelspec": {
      "name": "python3",
      "display_name": "Python 3"
    },
    "language_info": {
      "codemirror_mode": {
        "name": "ipython",
        "version": 3
      },
      "file_extension": ".py",
      "mimetype": "text/x-python",
      "name": "python",
      "nbconvert_exporter": "python",
      "pygments_lexer": "ipython3",
      "version": "3.7.4"
    },
    "colab": {
      "name": "movie_plots_ratings_classifier.ipynb",
      "provenance": [],
      "collapsed_sections": []
    },
    "accelerator": "GPU"
  },
  "cells": [
    {
      "cell_type": "markdown",
      "metadata": {
        "id": "Xaq7vh2Y6chM",
        "colab_type": "text"
      },
      "source": [
        "# Can AI predict the MPAA rating of a movie based only on its description?"
      ]
    },
    {
      "cell_type": "code",
      "metadata": {
        "id": "miNMPbtQ6chN",
        "colab_type": "code",
        "colab": {}
      },
      "source": [
        "import pandas as pd\n",
        "import matplotlib.pyplot as plt\n",
        "import numpy as np\n",
        "import seaborn as sns\n",
        "import warnings\n",
        "import re\n",
        "from sklearn.model_selection import train_test_split\n",
        "from sklearn.preprocessing import LabelEncoder\n",
        "from keras.preprocessing.text import one_hot, Tokenizer\n",
        "from keras.preprocessing.sequence import pad_sequences\n",
        "from keras.utils import to_categorical\n",
        "from keras.models import Sequential, load_model\n",
        "from keras.layers import Dense, Flatten, LSTM, Embedding, GlobalMaxPooling1D\n",
        "\n",
        "%matplotlib inline\n",
        "warnings.filterwarnings('ignore')"
      ],
      "execution_count": 0,
      "outputs": []
    },
    {
      "cell_type": "markdown",
      "metadata": {
        "id": "aBfyO_leDK6W",
        "colab_type": "text"
      },
      "source": [
        "Download the [Rotten Tomatoes Movie Database](https://www.kaggle.com/ayushkalla1/rotten-tomatoes-movie-database/) on Kaggle"
      ]
    },
    {
      "cell_type": "code",
      "metadata": {
        "id": "4HXTCBgL6chQ",
        "colab_type": "code",
        "colab": {}
      },
      "source": [
        "from google.colab import drive\n",
        "drive.mount('/content/drive')\n",
        "plots_df = pd.read_csv('/content/drive/My Drive/data_science/nlp/datasets/rotten_tomatoes_all_movies.csv')\n",
        "plots_df.head(15)"
      ],
      "execution_count": 0,
      "outputs": []
    },
    {
      "cell_type": "code",
      "metadata": {
        "id": "dHXEDYrN6chT",
        "colab_type": "code",
        "colab": {
          "base_uri": "https://localhost:8080/",
          "height": 639
        },
        "outputId": "f9a5a96c-706c-4126-ff72-2a5002fb6bfb"
      },
      "source": [
        "subset_df = plots_df[['Title', 'Rating', 'Description']]\n",
        "subset_df.head(20)"
      ],
      "execution_count": 4,
      "outputs": [
        {
          "output_type": "execute_result",
          "data": {
            "text/html": [
              "<div>\n",
              "<style scoped>\n",
              "    .dataframe tbody tr th:only-of-type {\n",
              "        vertical-align: middle;\n",
              "    }\n",
              "\n",
              "    .dataframe tbody tr th {\n",
              "        vertical-align: top;\n",
              "    }\n",
              "\n",
              "    .dataframe thead th {\n",
              "        text-align: right;\n",
              "    }\n",
              "</style>\n",
              "<table border=\"1\" class=\"dataframe\">\n",
              "  <thead>\n",
              "    <tr style=\"text-align: right;\">\n",
              "      <th></th>\n",
              "      <th>Title</th>\n",
              "      <th>Rating</th>\n",
              "      <th>Description</th>\n",
              "    </tr>\n",
              "  </thead>\n",
              "  <tbody>\n",
              "    <tr>\n",
              "      <th>0</th>\n",
              "      <td>The Mummy: Tomb of the Dragon Emperor</td>\n",
              "      <td>PG-13</td>\n",
              "      <td>The Fast and the Furious director Rob Cohen co...</td>\n",
              "    </tr>\n",
              "    <tr>\n",
              "      <th>1</th>\n",
              "      <td>The Masked Saint</td>\n",
              "      <td>PG-13</td>\n",
              "      <td>The journey of a professional wrestler who bec...</td>\n",
              "    </tr>\n",
              "    <tr>\n",
              "      <th>2</th>\n",
              "      <td>Spy Hard</td>\n",
              "      <td>PG-13</td>\n",
              "      <td>Dead pan Leslie Nielsen stars as Dick Steele, ...</td>\n",
              "    </tr>\n",
              "    <tr>\n",
              "      <th>3</th>\n",
              "      <td>Der Baader Meinhof Komplex (The Baader Meinhof...</td>\n",
              "      <td>R</td>\n",
              "      <td>Director Uli Edel teams with screenwriter Bern...</td>\n",
              "    </tr>\n",
              "    <tr>\n",
              "      <th>4</th>\n",
              "      <td>Apocalypse Now</td>\n",
              "      <td>R</td>\n",
              "      <td>One of a cluster of late-1970s films about the...</td>\n",
              "    </tr>\n",
              "    <tr>\n",
              "      <th>5</th>\n",
              "      <td>Mortdecai</td>\n",
              "      <td>R</td>\n",
              "      <td>Juggling some angry Russians, the British Mi5,...</td>\n",
              "    </tr>\n",
              "    <tr>\n",
              "      <th>6</th>\n",
              "      <td>The Hurt Locker</td>\n",
              "      <td>R</td>\n",
              "      <td>Based on the personal wartime experiences of j...</td>\n",
              "    </tr>\n",
              "    <tr>\n",
              "      <th>7</th>\n",
              "      <td>The Little Vampire 3D</td>\n",
              "      <td>NR</td>\n",
              "      <td>THE LITTLE VAMPIRE, based on the characters fr...</td>\n",
              "    </tr>\n",
              "    <tr>\n",
              "      <th>8</th>\n",
              "      <td>The Fortune</td>\n",
              "      <td>PG</td>\n",
              "      <td>Three's a crowd in Mike Nichols's period caper...</td>\n",
              "    </tr>\n",
              "    <tr>\n",
              "      <th>9</th>\n",
              "      <td>Heaven Knows Mr. Allison</td>\n",
              "      <td>NR</td>\n",
              "      <td>A two-person character study directed by John ...</td>\n",
              "    </tr>\n",
              "    <tr>\n",
              "      <th>10</th>\n",
              "      <td>The Glass Shield</td>\n",
              "      <td>PG-13</td>\n",
              "      <td>In this powerful drama, young J.J. is the firs...</td>\n",
              "    </tr>\n",
              "    <tr>\n",
              "      <th>11</th>\n",
              "      <td>The Haunted World of El Superbeasto</td>\n",
              "      <td>R</td>\n",
              "      <td>Paul Giamatti, Brian Posehn, Rosario Dawson, D...</td>\n",
              "    </tr>\n",
              "    <tr>\n",
              "      <th>12</th>\n",
              "      <td>The Land Before Time III: The Time of Great Gi...</td>\n",
              "      <td>G</td>\n",
              "      <td>In this third installment of the animated saga...</td>\n",
              "    </tr>\n",
              "    <tr>\n",
              "      <th>13</th>\n",
              "      <td>Dirty Mary Crazy Larry</td>\n",
              "      <td>PG</td>\n",
              "      <td>Three outlaws hit the road until the road hits...</td>\n",
              "    </tr>\n",
              "    <tr>\n",
              "      <th>14</th>\n",
              "      <td>Doctor Dolittle</td>\n",
              "      <td>G</td>\n",
              "      <td>Rex Harrison, although not at all like the por...</td>\n",
              "    </tr>\n",
              "    <tr>\n",
              "      <th>15</th>\n",
              "      <td>Street Fighter: The Legend of Chun-Li</td>\n",
              "      <td>PG-13</td>\n",
              "      <td>As the *Street Fighter saga celebrates its 20t...</td>\n",
              "    </tr>\n",
              "    <tr>\n",
              "      <th>16</th>\n",
              "      <td>Marooned</td>\n",
              "      <td>G</td>\n",
              "      <td>A suspense thriller set in space, Marooned is ...</td>\n",
              "    </tr>\n",
              "    <tr>\n",
              "      <th>17</th>\n",
              "      <td>Never Cry Wolf</td>\n",
              "      <td>PG</td>\n",
              "      <td>Based on the autobiographical novel by Farley ...</td>\n",
              "    </tr>\n",
              "    <tr>\n",
              "      <th>18</th>\n",
              "      <td>Empire</td>\n",
              "      <td>R</td>\n",
              "      <td>Victor Rosa runs a successful \"street pharmace...</td>\n",
              "    </tr>\n",
              "    <tr>\n",
              "      <th>19</th>\n",
              "      <td>Shiri</td>\n",
              "      <td>R</td>\n",
              "      <td>Two of Korea's top secret intelligence agents ...</td>\n",
              "    </tr>\n",
              "  </tbody>\n",
              "</table>\n",
              "</div>"
            ],
            "text/plain": [
              "                                                Title  ...                                        Description\n",
              "0               The Mummy: Tomb of the Dragon Emperor  ...  The Fast and the Furious director Rob Cohen co...\n",
              "1                                    The Masked Saint  ...  The journey of a professional wrestler who bec...\n",
              "2                                            Spy Hard  ...  Dead pan Leslie Nielsen stars as Dick Steele, ...\n",
              "3   Der Baader Meinhof Komplex (The Baader Meinhof...  ...  Director Uli Edel teams with screenwriter Bern...\n",
              "4                                      Apocalypse Now  ...  One of a cluster of late-1970s films about the...\n",
              "5                                           Mortdecai  ...  Juggling some angry Russians, the British Mi5,...\n",
              "6                                     The Hurt Locker  ...  Based on the personal wartime experiences of j...\n",
              "7                               The Little Vampire 3D  ...  THE LITTLE VAMPIRE, based on the characters fr...\n",
              "8                                         The Fortune  ...  Three's a crowd in Mike Nichols's period caper...\n",
              "9                            Heaven Knows Mr. Allison  ...  A two-person character study directed by John ...\n",
              "10                                   The Glass Shield  ...  In this powerful drama, young J.J. is the firs...\n",
              "11                The Haunted World of El Superbeasto  ...  Paul Giamatti, Brian Posehn, Rosario Dawson, D...\n",
              "12  The Land Before Time III: The Time of Great Gi...  ...  In this third installment of the animated saga...\n",
              "13                             Dirty Mary Crazy Larry  ...  Three outlaws hit the road until the road hits...\n",
              "14                                    Doctor Dolittle  ...  Rex Harrison, although not at all like the por...\n",
              "15              Street Fighter: The Legend of Chun-Li  ...  As the *Street Fighter saga celebrates its 20t...\n",
              "16                                           Marooned  ...  A suspense thriller set in space, Marooned is ...\n",
              "17                                     Never Cry Wolf  ...  Based on the autobiographical novel by Farley ...\n",
              "18                                             Empire  ...  Victor Rosa runs a successful \"street pharmace...\n",
              "19                                              Shiri  ...  Two of Korea's top secret intelligence agents ...\n",
              "\n",
              "[20 rows x 3 columns]"
            ]
          },
          "metadata": {
            "tags": []
          },
          "execution_count": 4
        }
      ]
    },
    {
      "cell_type": "code",
      "metadata": {
        "id": "qWmjmBLd6chV",
        "colab_type": "code",
        "colab": {
          "base_uri": "https://localhost:8080/",
          "height": 34
        },
        "outputId": "1d2d3916-f629-4b00-c3c3-d0bc31be7e74"
      },
      "source": [
        "subset_df['Rating'].unique()"
      ],
      "execution_count": 5,
      "outputs": [
        {
          "output_type": "execute_result",
          "data": {
            "text/plain": [
              "array(['PG-13', 'R', 'NR', 'PG', 'G', 'NC17'], dtype=object)"
            ]
          },
          "metadata": {
            "tags": []
          },
          "execution_count": 5
        }
      ]
    },
    {
      "cell_type": "code",
      "metadata": {
        "scrolled": true,
        "id": "LrBc9gfS6chX",
        "colab_type": "code",
        "colab": {}
      },
      "source": [
        "def preprocess_text(sen):\n",
        "    sentence = re.sub('[^a-zA-Z]',  ' ', sen)\n",
        "    sentence = re.sub(r'\\s+[a-zA-Z]\\s+', ' ', sentence)\n",
        "    sentence = re.sub(r'\\s+', ' ', sentence)\n",
        "    \n",
        "    return sentence\n",
        "\n",
        "X = []\n",
        "sentences = subset_df['Description'].tolist()\n",
        "for sen in sentences:\n",
        "    X.append(preprocess_text(str(sen)))"
      ],
      "execution_count": 0,
      "outputs": []
    },
    {
      "cell_type": "code",
      "metadata": {
        "id": "LgCjcJ1V6cha",
        "colab_type": "code",
        "colab": {}
      },
      "source": [
        "y = subset_df['Rating']\n",
        "le = LabelEncoder()\n",
        "y = le.fit_transform(y)"
      ],
      "execution_count": 0,
      "outputs": []
    },
    {
      "cell_type": "code",
      "metadata": {
        "id": "cAUPu-v86che",
        "colab_type": "code",
        "colab": {}
      },
      "source": [
        "X_train, X_test, y_train, y_test = train_test_split(X, y, test_size=0.2, random_state=42)\n",
        "y_train = to_categorical(y_train)\n",
        "y_test = to_categorical(y_test)"
      ],
      "execution_count": 0,
      "outputs": []
    },
    {
      "cell_type": "code",
      "metadata": {
        "id": "gGHDhds66chh",
        "colab_type": "code",
        "colab": {
          "base_uri": "https://localhost:8080/",
          "height": 541
        },
        "outputId": "04d58c6c-49ca-4f0f-c730-6a0114363020"
      },
      "source": [
        "tokenizer = Tokenizer(num_words=10000)\n",
        "tokenizer.fit_on_texts(X_train)\n",
        "\n",
        "X_train = tokenizer.texts_to_sequences(X_train)\n",
        "X_test = tokenizer.texts_to_sequences(X_test)\n",
        "\n",
        "vocab_size = len(tokenizer.word_index) + 1\n",
        "maxlen = 400\n",
        "\n",
        "X_train = pad_sequences(X_train, maxlen=maxlen)\n",
        "X_test = pad_sequences(X_test, maxlen=maxlen)"
      ],
      "execution_count": 12,
      "outputs": [
        {
          "output_type": "stream",
          "text": [
            "[5, 20, 8561, 267, 265, 5774, 7, 9888, 557, 8, 1, 4688, 2, 6735, 567, 3, 3421, 297, 535, 8562, 3, 1, 91, 3, 1963, 8958, 2654, 182, 3, 1168, 2, 9, 3826, 9, 129, 147, 21, 10, 5514, 417, 2093, 4, 3080, 60, 82, 1, 3345, 1358, 122, 2795, 8765, 1, 557, 3, 145, 3, 1187, 709, 87, 50, 2, 101, 1, 43, 29, 5, 462, 4, 37, 1, 56, 4, 1268, 1, 3131, 2654, 1, 110, 5940, 62, 326, 7719, 2, 467, 193, 393, 54]\n",
            "[   0    0    0    0    0    0    0    0    0    0    0    0    0    0\n",
            "    0    0    0    0    0    0    0    0    0    0    0    0    0    0\n",
            "    0    0    0    0    0    0    0    0    0    0    0    0    0    0\n",
            "    0    0    0    0    0    0    0    0    0    0    0    0    0    0\n",
            "    0    0    0    0    0    0    0    0    0    0    0    0    0    0\n",
            "    0    0    0    0    0    0    0    0    0    0    0    0    0    0\n",
            "    0    0    0    0    0    0    0    0    0    0    0    0    0    0\n",
            "    0    0    0    0    0    0    0    0    0    0    0    0    0    0\n",
            "    0    0    0    0    0    0    0    0    0    0    0    0    0    0\n",
            "    0    0    0    0    0    0    0    0    0    0    0    0    0    0\n",
            "    0    0    0    0    0    0    0    0    0    0    0    0    0    0\n",
            "    0    0    0    0    0    0    0    0    0    0    0    0    0    0\n",
            "    0    0    0    0    0    0    0    0    0    0    0    0    0    0\n",
            "    0    0    0    0    0    0    0    0    0    0    0    0    0    0\n",
            "    0    0    0    0    0    0    0    0    0    0    0    0    0    0\n",
            "    0    0    0    0    0    0    0    0    0    0    0    0    0    0\n",
            "    0    0    0    0    0    0    0    0    0    0    0    0    0    0\n",
            "    0    0    0    0    0    0    0    0    0    0    0    0    0    0\n",
            "    0    0    0    0    0    0    0    0    0    0    0    0    0    0\n",
            "    0    0    0    0    0    0    0    0    0    0    0    0    0    0\n",
            "    0    0    0    0    0    0    0    0    0    0    0    0    0    0\n",
            "    0    0    0    0    0    0    0    0    0    0    0    0    0    0\n",
            "    0    0    0    0    0    5   20 8561  267  265 5774    7 9888  557\n",
            "    8    1 4688    2 6735  567    3 3421  297  535 8562    3    1   91\n",
            "    3 1963 8958 2654  182    3 1168    2    9 3826    9  129  147   21\n",
            "   10 5514  417 2093    4 3080   60   82    1 3345 1358  122 2795 8765\n",
            "    1  557    3  145    3 1187  709   87   50    2  101    1   43   29\n",
            "    5  462    4   37    1   56    4 1268    1 3131 2654    1  110 5940\n",
            "   62  326 7719    2  467  193  393   54]\n"
          ],
          "name": "stdout"
        }
      ]
    },
    {
      "cell_type": "markdown",
      "metadata": {
        "id": "rS0x2zNEDZnQ",
        "colab_type": "text"
      },
      "source": [
        "Download the [6B GloVe word embedding](https://nlp.stanford.edu/projects/glove/) - make sure you grab [the 6B version](http://nlp.stanford.edu/data/glove.6B.zip)!"
      ]
    },
    {
      "cell_type": "code",
      "metadata": {
        "id": "K2Lr5MmZ6chk",
        "colab_type": "code",
        "colab": {}
      },
      "source": [
        "#\n",
        "# Hat tip: https://stackabuse.com/python-for-nlp-creating-multi-data-type-classification-models-with-keras/\n",
        "#\n",
        "\n",
        "embeddings_dictionary = dict()\n",
        "glove = open('/content/drive/My Drive/data_science/nlp/glove.6B.100d.txt', encoding='utf8')\n",
        "\n",
        "for line in glove:\n",
        "    records = line.split()\n",
        "    word = records[0]\n",
        "    vector_dimensions = np.asarray(records[1:], dtype='float32')\n",
        "    embeddings_dictionary[word] = vector_dimensions\n",
        "    \n",
        "glove.close()\n",
        "\n",
        "embedding_matrix = np.zeros((vocab_size, 100))\n",
        "for word, index in tokenizer.word_index.items():\n",
        "    embedding_vector = embeddings_dictionary.get(word)\n",
        "    if embedding_vector is not None:\n",
        "        embedding_matrix[index] = embedding_vector"
      ],
      "execution_count": 0,
      "outputs": []
    },
    {
      "cell_type": "code",
      "metadata": {
        "id": "6YWrgf0x6chl",
        "colab_type": "code",
        "colab": {
          "base_uri": "https://localhost:8080/",
          "height": 252
        },
        "outputId": "099de7d6-29e2-46f5-fcfd-de01973a55da"
      },
      "source": [
        "# build the neural network model\n",
        "model = Sequential()\n",
        "model.add(Embedding(input_dim=vocab_size, output_dim=100, weights=[embedding_matrix], trainable=False))\n",
        "model.add(LSTM(units=128, dropout=0.2, recurrent_dropout=0.2))\n",
        "model.add(Dense(6, activation='softmax'))\n",
        "model.compile(loss='categorical_crossentropy', optimizer='adam', metrics=['accuracy'])\n",
        "model.summary()"
      ],
      "execution_count": 25,
      "outputs": [
        {
          "output_type": "stream",
          "text": [
            "Model: \"sequential_4\"\n",
            "_________________________________________________________________\n",
            "Layer (type)                 Output Shape              Param #   \n",
            "=================================================================\n",
            "embedding_4 (Embedding)      (None, None, 100)         5805700   \n",
            "_________________________________________________________________\n",
            "lstm_4 (LSTM)                (None, 128)               117248    \n",
            "_________________________________________________________________\n",
            "dense_4 (Dense)              (None, 6)                 774       \n",
            "=================================================================\n",
            "Total params: 5,923,722\n",
            "Trainable params: 118,022\n",
            "Non-trainable params: 5,805,700\n",
            "_________________________________________________________________\n"
          ],
          "name": "stdout"
        }
      ]
    },
    {
      "cell_type": "code",
      "metadata": {
        "id": "9kgfjBEt6chn",
        "colab_type": "code",
        "colab": {
          "base_uri": "https://localhost:8080/",
          "height": 1000
        },
        "outputId": "31d675cd-280c-4166-f6ec-dd7c93e304d9"
      },
      "source": [
        "hist = model.fit(X_train, y_train, batch_size=128, epochs=35, validation_split=0.2, verbose=1)"
      ],
      "execution_count": 26,
      "outputs": [
        {
          "output_type": "stream",
          "text": [
            "Train on 19078 samples, validate on 4770 samples\n",
            "Epoch 1/35\n",
            "19078/19078 [==============================] - 115s 6ms/step - loss: 1.4579 - acc: 0.3727 - val_loss: 1.4211 - val_acc: 0.3675\n",
            "Epoch 2/35\n",
            "19078/19078 [==============================] - 113s 6ms/step - loss: 1.3954 - acc: 0.4004 - val_loss: 1.3369 - val_acc: 0.4208\n",
            "Epoch 3/35\n",
            "19078/19078 [==============================] - 113s 6ms/step - loss: 1.3047 - acc: 0.4466 - val_loss: 1.2690 - val_acc: 0.4564\n",
            "Epoch 4/35\n",
            "19078/19078 [==============================] - 113s 6ms/step - loss: 1.2590 - acc: 0.4662 - val_loss: 1.2384 - val_acc: 0.4801\n",
            "Epoch 5/35\n",
            "19078/19078 [==============================] - 113s 6ms/step - loss: 1.2303 - acc: 0.4818 - val_loss: 1.2061 - val_acc: 0.4927\n",
            "Epoch 6/35\n",
            "19078/19078 [==============================] - 113s 6ms/step - loss: 1.2089 - acc: 0.4953 - val_loss: 1.1917 - val_acc: 0.5008\n",
            "Epoch 7/35\n",
            "19078/19078 [==============================] - 113s 6ms/step - loss: 1.1830 - acc: 0.5099 - val_loss: 1.1657 - val_acc: 0.5117\n",
            "Epoch 8/35\n",
            "19078/19078 [==============================] - 113s 6ms/step - loss: 1.1609 - acc: 0.5188 - val_loss: 1.1586 - val_acc: 0.5224\n",
            "Epoch 9/35\n",
            "19078/19078 [==============================] - 113s 6ms/step - loss: 1.1341 - acc: 0.5331 - val_loss: 1.1418 - val_acc: 0.5291\n",
            "Epoch 10/35\n",
            "19078/19078 [==============================] - 114s 6ms/step - loss: 1.1108 - acc: 0.5431 - val_loss: 1.1170 - val_acc: 0.5396\n",
            "Epoch 11/35\n",
            "19078/19078 [==============================] - 113s 6ms/step - loss: 1.0794 - acc: 0.5594 - val_loss: 1.0999 - val_acc: 0.5535\n",
            "Epoch 12/35\n",
            "19078/19078 [==============================] - 113s 6ms/step - loss: 1.0549 - acc: 0.5758 - val_loss: 1.0757 - val_acc: 0.5681\n",
            "Epoch 13/35\n",
            "19078/19078 [==============================] - 113s 6ms/step - loss: 1.0233 - acc: 0.5953 - val_loss: 1.0610 - val_acc: 0.5761\n",
            "Epoch 14/35\n",
            "19078/19078 [==============================] - 113s 6ms/step - loss: 0.9977 - acc: 0.6037 - val_loss: 1.0436 - val_acc: 0.5757\n",
            "Epoch 15/35\n",
            "19078/19078 [==============================] - 113s 6ms/step - loss: 0.9752 - acc: 0.6115 - val_loss: 1.0298 - val_acc: 0.5847\n",
            "Epoch 16/35\n",
            "19078/19078 [==============================] - 113s 6ms/step - loss: 0.9447 - acc: 0.6284 - val_loss: 1.0089 - val_acc: 0.6042\n",
            "Epoch 17/35\n",
            "19078/19078 [==============================] - 113s 6ms/step - loss: 0.9094 - acc: 0.6457 - val_loss: 0.9873 - val_acc: 0.6138\n",
            "Epoch 18/35\n",
            "19078/19078 [==============================] - 113s 6ms/step - loss: 0.8979 - acc: 0.6519 - val_loss: 0.9835 - val_acc: 0.6176\n",
            "Epoch 19/35\n",
            "19078/19078 [==============================] - 113s 6ms/step - loss: 0.8585 - acc: 0.6707 - val_loss: 0.9510 - val_acc: 0.6300\n",
            "Epoch 20/35\n",
            "19078/19078 [==============================] - 113s 6ms/step - loss: 0.8372 - acc: 0.6791 - val_loss: 0.9484 - val_acc: 0.6340\n",
            "Epoch 21/35\n",
            "19078/19078 [==============================] - 113s 6ms/step - loss: 0.8181 - acc: 0.6874 - val_loss: 0.9392 - val_acc: 0.6449\n",
            "Epoch 22/35\n",
            "19078/19078 [==============================] - 114s 6ms/step - loss: 0.7850 - acc: 0.7000 - val_loss: 0.9253 - val_acc: 0.6495\n",
            "Epoch 23/35\n",
            "19078/19078 [==============================] - 113s 6ms/step - loss: 0.7724 - acc: 0.7066 - val_loss: 0.9039 - val_acc: 0.6654\n",
            "Epoch 24/35\n",
            "19078/19078 [==============================] - 114s 6ms/step - loss: 0.7503 - acc: 0.7183 - val_loss: 0.9171 - val_acc: 0.6530\n",
            "Epoch 25/35\n",
            "19078/19078 [==============================] - 113s 6ms/step - loss: 0.7222 - acc: 0.7293 - val_loss: 0.8682 - val_acc: 0.6753\n",
            "Epoch 26/35\n",
            "19078/19078 [==============================] - 113s 6ms/step - loss: 0.7147 - acc: 0.7298 - val_loss: 0.8733 - val_acc: 0.6830\n",
            "Epoch 27/35\n",
            "19078/19078 [==============================] - 114s 6ms/step - loss: 0.6915 - acc: 0.7413 - val_loss: 0.8569 - val_acc: 0.6895\n",
            "Epoch 28/35\n",
            "19078/19078 [==============================] - 113s 6ms/step - loss: 0.6795 - acc: 0.7482 - val_loss: 0.8577 - val_acc: 0.6943\n",
            "Epoch 29/35\n",
            "19078/19078 [==============================] - 113s 6ms/step - loss: 0.6578 - acc: 0.7541 - val_loss: 0.8351 - val_acc: 0.7040\n",
            "Epoch 30/35\n",
            "19078/19078 [==============================] - 113s 6ms/step - loss: 0.6362 - acc: 0.7637 - val_loss: 0.8455 - val_acc: 0.7015\n",
            "Epoch 31/35\n",
            "19078/19078 [==============================] - 113s 6ms/step - loss: 0.6258 - acc: 0.7698 - val_loss: 0.8302 - val_acc: 0.7044\n",
            "Epoch 32/35\n",
            "19078/19078 [==============================] - 113s 6ms/step - loss: 0.6112 - acc: 0.7719 - val_loss: 0.8267 - val_acc: 0.7103\n",
            "Epoch 33/35\n",
            "19078/19078 [==============================] - 113s 6ms/step - loss: 0.6038 - acc: 0.7779 - val_loss: 0.8159 - val_acc: 0.7113\n",
            "Epoch 34/35\n",
            "19078/19078 [==============================] - 113s 6ms/step - loss: 0.5868 - acc: 0.7834 - val_loss: 0.8003 - val_acc: 0.7252\n",
            "Epoch 35/35\n",
            "19078/19078 [==============================] - 113s 6ms/step - loss: 0.5734 - acc: 0.7904 - val_loss: 0.8143 - val_acc: 0.7210\n"
          ],
          "name": "stdout"
        }
      ]
    },
    {
      "cell_type": "code",
      "metadata": {
        "id": "RAauuT1-6chp",
        "colab_type": "code",
        "colab": {
          "base_uri": "https://localhost:8080/",
          "height": 67
        },
        "outputId": "517f1300-c28c-43a4-d691-91c47e8adaf4"
      },
      "source": [
        "loss, acc = model.evaluate(X_test, y_test, verbose=1)\n",
        "print('loss: ', loss)\n",
        "print('accuracy: ', acc)"
      ],
      "execution_count": 27,
      "outputs": [
        {
          "output_type": "stream",
          "text": [
            "5962/5962 [==============================] - 25s 4ms/step\n",
            "loss:  0.8240444696977289\n",
            "accuracy:  0.715028513901508\n"
          ],
          "name": "stdout"
        }
      ]
    },
    {
      "cell_type": "code",
      "metadata": {
        "id": "B7Yll-GW6chq",
        "colab_type": "code",
        "colab": {
          "base_uri": "https://localhost:8080/",
          "height": 573
        },
        "outputId": "43baf5fe-5d89-402b-d25e-923d7eb7eaf1"
      },
      "source": [
        "plt.plot(hist.history['acc'])\n",
        "plt.plot(hist.history['val_acc'])\n",
        "plt.title('model accuracy: {:.2f}'.format(acc))\n",
        "plt.ylabel('accuracy')\n",
        "plt.xlabel('epoch')\n",
        "plt.legend(['train', 'test'], loc='upper left')\n",
        "plt.show()\n",
        "\n",
        "plt.plot(hist.history['loss'])\n",
        "plt.plot(hist.history['val_loss'])\n",
        "plt.title('model loss: {:.2f}'.format(loss))\n",
        "plt.ylabel('loss')\n",
        "plt.xlabel('epoch')\n",
        "plt.legend(['train', 'test'], loc='upper left')\n",
        "plt.show()"
      ],
      "execution_count": 37,
      "outputs": [
        {
          "output_type": "display_data",
          "data": {
            "image/png": "[encoded data removed]",
            "text/plain": [
              "<Figure size 432x288 with 1 Axes>"
            ]
          },
          "metadata": {
            "tags": []
          }
        },
        {
          "output_type": "display_data",
          "data": {
            "image/png": "[encoded data removed]",
            "text/plain": [
              "<Figure size 432x288 with 1 Axes>"
            ]
          },
          "metadata": {
            "tags": []
          }
        }
      ]
    },
    {
      "cell_type": "code",
      "metadata": {
        "id": "5lV8lBEG6chs",
        "colab_type": "code",
        "colab": {}
      },
      "source": [
        "model.save('movie_description_classifier.h5')"
      ],
      "execution_count": 0,
      "outputs": []
    },
    {
      "cell_type": "markdown",
      "metadata": {
        "id": "At4tupsw9PNW",
        "colab_type": "text"
      },
      "source": [
        "# Make predictions on unseen data"
      ]
    },
    {
      "cell_type": "code",
      "metadata": {
        "id": "906UBR3l6chu",
        "colab_type": "code",
        "colab": {
          "base_uri": "https://localhost:8080/",
          "height": 70
        },
        "outputId": "ae4c1359-7f9f-4f58-cdc6-1109dd3626bf"
      },
      "source": [
        "''' Cabin in the Woods (R) '''\n",
        "synopsis = 'Five friends go for a break at a remote cabin, where they get more than they bargained for, discovering the truth behind the cabin in the woods.'\n",
        "\n",
        "''' Walking Tall (PG-13) '''\n",
        "# synopsis = 'Chris Vaughn is a retired soldier who returns to his hometown to make a new life for himself, only to discover his wealthy high school rival, Jay Hamilton, has closed the once-prosperous lumber mill to turn the town resources towards his own criminal gains. The town is now overrun with crime, drugs and violence. Enlisting the help of his old pal Ray Templeton, Chris gets elected sheriff and vows to shut down Hamilton operations. His actions endanger his family and threaten his own life, but Chris refuses to back down until his hometown once again feels like home.'\n",
        "\n",
        "''' The Hurt Locker (R) '''\n",
        "# synopsis = 'Based on the personal wartime experiences of journalist Mark Boal (who adapted his experiences with a bomb squad into a fact-based, yet fictional story), director Kathryn Bigelow Iraq War-set action thriller The Hurt Locker presents the conflict in the Middle East from the perspective of those who witnessed the fighting firsthand -- the soldiers. As an elite Army Explosive Ordnance Disposal team tactfully navigates the streets of present-day Iraq, they face the constant threat of death from incoming bombs and sharp-shooting snipers. In Baghdad, roadside bombs are a common danger. The Army is working to make the city a safer place for Americans and Iraqis, so when it comes to dismantling IEDs (improvised explosive devices) the Explosive Ordnance Disposal (EOD) crew is always on their game. But protecting the public easy when there no room for error, and every second spent dismantling a bomb is another second spent flirting with death. Now, as three fearless bomb technicians take on the most dangerous job in Baghdad, it only a matter of time before one of them gets sent to the hurt locker. Jeremy Renner, Guy Pearce, and Ralph Fiennes star.'\n",
        "\n",
        "''' Revenge of the Ninja (R) '''\n",
        "# synopsis = 'After his family is killed in Japan by ninjas, Cho and his son Kane come to America to start a new life. He opens a doll shop but is unwittingly importing heroin in the dolls. When he finds out that his friend has betrayed him, Cho must prepare for the ultimate battle he has ever been involved in.'\n",
        "\n",
        "''' The Lion King (G) '''\n",
        "''' NOTE: the two summaries are combined for the 1994 and 2019 films '''\n",
        "# synopsis = 'A Lion cub crown prince is tricked by a treacherous uncle into thinking he caused his father death and flees into exile in despair, only to learn in adulthood his identity and his responsibilities. After the murder of his father, a young lion prince flees his kingdom only to learn the true meaning of responsibility and bravery.'\n",
        "\n",
        "''' Scarface (R) '''\n",
        "synopsis = X[1974]\n",
        "print(synopsis)\n",
        "\n",
        "\n",
        "# dictionary of key-value mappings for MPAA ratings\n",
        "mpaa_ratings = { 0:'G', 1:'NC-17', 2:'NR', 3:'PG', 4:'PG-13', 5:'R' }\n",
        "\n",
        "synopsis = tokenizer.texts_to_sequences(synopsis)\n",
        "\n",
        "flat_list = []\n",
        "for sublist in synopsis:\n",
        "    for item in sublist:\n",
        "        flat_list.append(item)\n",
        "\n",
        "synopsis = pad_sequences([flat_list], maxlen=maxlen)\n",
        "# print(synopsis)\n",
        "prediction = model.predict_classes(synopsis)\n",
        "# print(prediction)\n",
        "print('I predict that the MPAA would give your movie description a rating of {}'.format(mpaa_ratings[prediction[0]]))"
      ],
      "execution_count": 36,
      "outputs": [
        {
          "output_type": "stream",
          "text": [
            "Al Pacino stars as Tony Montana an exiled Cuban criminal who goes to work for Miami drug lord Robert Loggia Montana rises to the top of Florida crime chain appropriating Loggia cokehead mistress Michelle Pfeiffer in the process Howard Hawks Marks the Spot motif in depicting the story line many murders is dispensed with in the Scarface instead we are inundated with blood by the bucketful especially in the now infamous buzz saw scene One carry over from the original Scarface is Tony Montana incestuous yearnings for his sister Gina Mary Elizabeth Mastrantonio The screenplay for the Scarface was written by Oliver Stone Hal Erickson Rovi\n",
            "I predict that the MPAA would give your movie description a rating of PG-13\n"
          ],
          "name": "stdout"
        }
      ]
    },
    {
      "cell_type": "code",
      "metadata": {
        "id": "OV0UrwFl5PdO",
        "colab_type": "code",
        "colab": {}
      },
      "source": [
        ""
      ],
      "execution_count": 0,
      "outputs": []
    }
  ]
}
